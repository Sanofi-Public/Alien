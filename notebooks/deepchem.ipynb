{
 "cells": [
  {
   "cell_type": "markdown",
   "id": "ae48879f-e6d7-4828-ba51-dcccf7e74fea",
   "metadata": {
    "tags": []
   },
   "source": [
    "# Wrapping and using DeepChem models #"
   ]
  },
  {
   "cell_type": "code",
   "execution_count": 1,
   "id": "88d95250-7926-42db-8dc5-79f6d9d9a404",
   "metadata": {},
   "outputs": [],
   "source": [
    "# This gives Jupyter access to the SDK without having to install it\n",
    "\n",
    "from pathlib import Path\n",
    "import sys \n",
    "sys.path.append((Path.cwd().parent).as_posix())"
   ]
  },
  {
   "cell_type": "markdown",
   "id": "0bf10f2b-4e64-4754-8d8c-e4435d34acdc",
   "metadata": {},
   "source": [
    "### Loading the dataset ###\n",
    "We download a chemical dataset from the Therapeutics Data Commons, then wrap it in our `alien.data.DeepChemDataset` class. We specify a featurizer, for converting SMILES strings to DeepChem graph structures. We can specify any string that matches (part of) any DeepChem featurizer class name."
   ]
  },
  {
   "cell_type": "code",
   "execution_count": 2,
   "id": "de764171-03fc-4411-a841-6af7e688ab76",
   "metadata": {},
   "outputs": [
    {
     "name": "stderr",
     "output_type": "stream",
     "text": [
      "Found local copy...\n",
      "Loading...\n",
      "Done!\n",
      "2023-05-09 18:32:49.085511: I tensorflow/tsl/cuda/cudart_stub.cc:28] Could not find cuda drivers on your machine, GPU will not be used.\n",
      "2023-05-09 18:32:49.132258: I tensorflow/tsl/cuda/cudart_stub.cc:28] Could not find cuda drivers on your machine, GPU will not be used.\n",
      "2023-05-09 18:32:49.133132: I tensorflow/core/platform/cpu_feature_guard.cc:182] This TensorFlow binary is optimized to use available CPU instructions in performance-critical operations.\n",
      "To enable the following instructions: AVX2 AVX512F FMA, in other operations, rebuild TensorFlow with the appropriate compiler flags.\n",
      "2023-05-09 18:32:49.905080: W tensorflow/compiler/tf2tensorrt/utils/py_utils.cc:38] TF-TRT Warning: Could not find TensorRT\n",
      "Skipped loading modules with pytorch-geometric dependency, missing a dependency. No module named 'torch_geometric'\n",
      "Skipped loading modules with pytorch-geometric dependency, missing a dependency. cannot import name 'DMPNN' from 'deepchem.models.torch_models' (/opt/conda/envs/alenv/lib/python3.9/site-packages/deepchem/models/torch_models/__init__.py)\n",
      "Skipped loading some Jax models, missing a dependency. jax requires jaxlib to be installed. See https://github.com/google/jax#installation for installation instructions.\n"
     ]
    }
   ],
   "source": [
    "from tdc.single_pred import ADME\n",
    "from alien.data import DeepChemDataset\n",
    "\n",
    "data = ADME(name = 'Caco2_Wang')\n",
    "split = data.get_split()\n",
    "\n",
    "train_data = DeepChemDataset(\n",
    "    X=split['train']['Drug'], \n",
    "    y=list(split['train']['Y']), \n",
    "    featurizer='convmol'\n",
    ")\n",
    "test_data = DeepChemDataset(\n",
    "    X=split['test']['Drug'], \n",
    "    y=list(split['test']['Y']), \n",
    "    featurizer='convmol'\n",
    ")"
   ]
  },
  {
   "cell_type": "markdown",
   "id": "7bdd7b9d-63af-442e-8ccb-e40376f38660",
   "metadata": {},
   "source": [
    "We split our training data into an initial labelled set to train the model on, and the remainder will be a pool for our active learning strategy to pick from:"
   ]
  },
  {
   "cell_type": "code",
   "execution_count": 3,
   "id": "5e1821e9-075d-4c1f-bced-552314eae58d",
   "metadata": {},
   "outputs": [],
   "source": [
    "n_labelled = int(.4 * len(train_data))\n",
    "data_l = train_data[:n_labelled] # initial labelled data to train the model on\n",
    "data_u = train_data[n_labelled:] # unlabelled sample pool to select from"
   ]
  },
  {
   "cell_type": "markdown",
   "id": "1f99118c-5648-410f-a847-7daafa59390a",
   "metadata": {},
   "source": [
    "### Building and wrapping the model ###\n",
    "We construct a `GraphConvModel` within the DeepChem framework:"
   ]
  },
  {
   "cell_type": "code",
   "execution_count": 4,
   "id": "3efa9615-1645-4f9f-8ce5-10368ea69aa4",
   "metadata": {},
   "outputs": [],
   "source": [
    "import deepchem as dc\n",
    "import os\n",
    "\n",
    "hyper_params = {\n",
    "    'dense_layer_size': 50,\n",
    "    'graph_conv_layers': [20, 20],\n",
    "    'dropout': 0.1,\n",
    "    'batch_size': 64,\n",
    "    'learning_rate': 0.001\n",
    "}\n",
    "\n",
    "os.makedirs('deepchem_models', exist_ok=True)\n",
    "dc_model = dc.models.GraphConvModel(\n",
    "    1,\n",
    "    batch_normalize=True,\n",
    "    mode='regression',\n",
    "    uncertainty=False,\n",
    "    log_frequency=20,\n",
    "    model_dir='deepchem_models/',\n",
    "    **hyper_params\n",
    ")\n"
   ]
  },
  {
   "attachments": {},
   "cell_type": "markdown",
   "id": "e4e6cf2f-0bde-4977-abe8-b3683b7423ac",
   "metadata": {},
   "source": [
    "We wrap the DeepChem model in our `Regressor` class, which creates the tooling needed to use MC dropout to get covariances out of the model. We pass in the training set as well.\n",
    "\n",
    "We use `uncertainty='dropout'`, which computes uncertainties using dropout layers during inference. Alternatively, we could use `uncertainty='laplace'`, which would get covariances using the Laplace approximation on the last layer weights."
   ]
  },
  {
   "cell_type": "code",
   "execution_count": 5,
   "id": "3283f203-4d70-4377-aa7f-71000d703314",
   "metadata": {},
   "outputs": [],
   "source": [
    "from alien.models import Regressor\n",
    "\n",
    "model = Regressor(dc_model, data_l, uncertainty='dropout')"
   ]
  },
  {
   "cell_type": "markdown",
   "id": "ebcbcdd0-dbbc-4797-bfd6-d8d19455cfc5",
   "metadata": {},
   "source": [
    "Now we fit the model. This uses DeepChem's training code under the hood."
   ]
  },
  {
   "cell_type": "code",
   "execution_count": 6,
   "id": "6ca2ed8c-1a45-464f-8eea-77baf86ca13c",
   "metadata": {},
   "outputs": [],
   "source": [
    "model.fit()"
   ]
  },
  {
   "cell_type": "markdown",
   "id": "57057f2e-c388-434a-b30a-4f7463e35b7f",
   "metadata": {},
   "source": [
    "We could have called `model.fit(data_l)` or `model.fit(data_l.X, data_l.y)`, but there was no need, since the model already has the training set."
   ]
  },
  {
   "cell_type": "markdown",
   "id": "35c634e0-6830-408f-a38b-fd5a895488cc",
   "metadata": {},
   "source": [
    "### Invoking the model ###\n",
    "Now we get predictions and covariances from our test set:"
   ]
  },
  {
   "cell_type": "code",
   "execution_count": 7,
   "id": "211ba82b-4a26-49f7-a6f2-66bb124dad80",
   "metadata": {},
   "outputs": [],
   "source": [
    "pred = model.predict(test_data.X[:40])\n",
    "cov = model.covariance(test_data.X[:40])"
   ]
  },
  {
   "cell_type": "code",
   "execution_count": 8,
   "id": "cd675b6d-4e18-4044-92cb-e322e7ca32ab",
   "metadata": {},
   "outputs": [],
   "source": [
    "# Correlation from covariance:\n",
    "def cor_from_cov(cov):\n",
    "    std = 1 / np.sqrt(np.diag(cov))\n",
    "    return std[:,None] * cov * std[None,:]"
   ]
  },
  {
   "cell_type": "markdown",
   "id": "cf8190fa-a57b-4c5b-9690-1ec0593d2a54",
   "metadata": {},
   "source": [
    "We plot correlations and covariances for our test set:"
   ]
  },
  {
   "cell_type": "code",
   "execution_count": 9,
   "id": "d542eb42-f9d6-4284-a460-3156dc9031df",
   "metadata": {},
   "outputs": [
    {
     "data": {
      "image/png": "[encoded data removed]",
      "text/plain": [
       "<Figure size 640x480 with 2 Axes>"
      ]
     },
     "metadata": {},
     "output_type": "display_data"
    }
   ],
   "source": [
    "import matplotlib.pyplot as plt\n",
    "import numpy as np\n",
    "\n",
    "fig, axes = plt.subplots(1,2)\n",
    "\n",
    "axes[0].set_title(\"Covariance\")\n",
    "axes[0].imshow(cov, cmap='bwr', vmin=-1, vmax=1, interpolation='nearest')\n",
    "\n",
    "axes[1].set_title(\"Correlation\")\n",
    "axes[1].imshow(cor_from_cov(cov), cmap='bwr', vmin=-1, vmax=1, interpolation='nearest');"
   ]
  },
  {
   "cell_type": "markdown",
   "id": "7fc42b30-b7d5-409d-9cc8-67cc61f80452",
   "metadata": {},
   "source": [
    "## Selector objects and batch selection ##\n",
    "Now we build a selector object using the \"max covariance\" strategy (known as COVDROP when paired with MC dropout). `samples` and `batch_size` may instead be passed into the `.select` method later on."
   ]
  },
  {
   "cell_type": "code",
   "execution_count": 10,
   "id": "cce09e10-dfc5-4081-a5cf-5807e0983854",
   "metadata": {},
   "outputs": [],
   "source": [
    "from alien.selection import CovarianceSelector\n",
    "\n",
    "selector = CovarianceSelector(\n",
    "    model = model,\n",
    "    samples = data_u,\n",
    "    batch_size = 10,\n",
    "    random_seed = 420,\n",
    ")"
   ]
  },
  {
   "cell_type": "markdown",
   "id": "ba8a6cac-db6c-4ce0-8a33-2f02d39a20ce",
   "metadata": {},
   "source": [
    "Now we invoke the selection step. `batch` will contain just those rows of `data_u` that have been selected:"
   ]
  },
  {
   "cell_type": "code",
   "execution_count": 11,
   "id": "53799c6c-a2a8-4c2e-8007-da2cf7e9d005",
   "metadata": {},
   "outputs": [],
   "source": [
    "batch = selector.select() #return_indices=True)"
   ]
  },
  {
   "cell_type": "markdown",
   "id": "c1ac6f22-ac05-4f79-8062-7d39544f744e",
   "metadata": {},
   "source": [
    "If we like, we can get the selected indices instead:"
   ]
  },
  {
   "cell_type": "code",
   "execution_count": 12,
   "id": "2b5e5fee-24a4-4d07-92f2-d07c21f6d13d",
   "metadata": {},
   "outputs": [
    {
     "data": {
      "text/plain": [
       "array([370, 227,  11, 299, 158,  15, 298, 115,  82, 261])"
      ]
     },
     "execution_count": 12,
     "metadata": {},
     "output_type": "execute_result"
    }
   ],
   "source": [
    "selector.select(return_indices=True, verbose=False)"
   ]
  },
  {
   "cell_type": "code",
   "execution_count": 15,
   "id": "671821e2-ba36-4e16-8977-16c3776fb834",
   "metadata": {},
   "outputs": [
    {
     "data": {
      "text/plain": [
       "<matplotlib.collections.PathCollection at 0x7f231c0f66d0>"
      ]
     },
     "execution_count": 15,
     "metadata": {},
     "output_type": "execute_result"
    },
    {
     "data": {
      "image/png": "[encoded data removed]",
      "text/plain": [
       "<Figure size 640x480 with 1 Axes>"
      ]
     },
     "metadata": {},
     "output_type": "display_data"
    }
   ],
   "source": [
    "import matplotlib.pyplot as plt\n",
    "\n",
    "pred = model.predict(test_data.X)\n",
    "std_dev = np.sqrt(np.diagonal(model.covariance(test_data.X)))\n",
    "\n",
    "batch_pred = model.predict(batch.X)\n",
    "batch_std_dev = np.sqrt(np.diagonal(model.covariance(batch.X)))\n",
    "\n",
    "plt.scatter(std_dev, pred, s=5, alpha=.3)\n",
    "plt.scatter(batch_std_dev, batch_pred, c='red', s=10, alpha=.4)"
   ]
  },
  {
   "cell_type": "markdown",
   "id": "ec620df8-32b3-4952-b420-2404a9baa103",
   "metadata": {},
   "source": [
    "We try another selection strategy, *B*atch *A*ctive learning via *I*nformation ma*T*rices (BAIT). This selector needs to know the samples that have previously been labelled, so we pass them in (during selector construction, or during the call to `.select`)."
   ]
  },
  {
   "cell_type": "code",
   "execution_count": 16,
   "id": "a539f082-d48d-406c-93d5-862419b2ad74",
   "metadata": {},
   "outputs": [
    {
     "name": "stdout",
     "output_type": "stream",
     "text": [
      "Greedy forward sampling...\n",
      "Greedy backward pruning...\n"
     ]
    }
   ],
   "source": [
    "from alien.selection import BAITSelector\n",
    "\n",
    "selector = BAITSelector(\n",
    "    model = model,\n",
    "    samples = data_u,\n",
    "    labelled_samples = data_l,   # BAIT needs to know the labelled samples\n",
    "    batch_size = 10,\n",
    ")\n",
    "\n",
    "batch = selector.select()"
   ]
  },
  {
   "cell_type": "code",
   "execution_count": null,
   "id": "5f3b96d9-651c-472f-b764-e8ebf629a55b",
   "metadata": {},
   "outputs": [],
   "source": []
  }
 ],
 "metadata": {
  "kernelspec": {
   "display_name": "Python 3 (ipykernel)",
   "language": "python",
   "name": "python3"
  },
  "language_info": {
   "codemirror_mode": {
    "name": "ipython",
    "version": 3
   },
   "file_extension": ".py",
   "mimetype": "text/x-python",
   "name": "python",
   "nbconvert_exporter": "python",
   "pygments_lexer": "ipython3",
   "version": "3.9.12"
  }
 },
 "nbformat": 4,
 "nbformat_minor": 5
}
