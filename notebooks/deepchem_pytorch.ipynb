{
 "cells": [
  {
   "cell_type": "code",
   "execution_count": 16,
   "id": "f3db5c8e-dd0d-46bd-8486-4c5d81129640",
   "metadata": {},
   "outputs": [],
   "source": [
    "from pathlib import Path\n",
    "import sys\n",
    "\n",
    "sys.path.append((Path.cwd().parent).as_posix())"
   ]
  },
  {
   "cell_type": "code",
   "execution_count": 2,
   "id": "252f7fbf-5ca2-4908-8a6e-01d3153915bb",
   "metadata": {},
   "outputs": [
    {
     "name": "stderr",
     "output_type": "stream",
     "text": [
      "Found local copy...\n",
      "Loading...\n",
      "Done!\n",
      "2023-05-03 07:04:22.375647: I tensorflow/tsl/cuda/cudart_stub.cc:28] Could not find cuda drivers on your machine, GPU will not be used.\n",
      "2023-05-03 07:04:22.423724: I tensorflow/tsl/cuda/cudart_stub.cc:28] Could not find cuda drivers on your machine, GPU will not be used.\n",
      "2023-05-03 07:04:22.424500: I tensorflow/core/platform/cpu_feature_guard.cc:182] This TensorFlow binary is optimized to use available CPU instructions in performance-critical operations.\n",
      "To enable the following instructions: AVX2 AVX512F FMA, in other operations, rebuild TensorFlow with the appropriate compiler flags.\n",
      "2023-05-03 07:04:23.176417: W tensorflow/compiler/tf2tensorrt/utils/py_utils.cc:38] TF-TRT Warning: Could not find TensorRT\n",
      "Skipped loading modules with pytorch-geometric dependency, missing a dependency. No module named 'torch_geometric'\n",
      "Skipped loading modules with pytorch-geometric dependency, missing a dependency. cannot import name 'DMPNN' from 'deepchem.models.torch_models' (/opt/conda/envs/alenv/lib/python3.9/site-packages/deepchem/models/torch_models/__init__.py)\n",
      "Skipped loading some Jax models, missing a dependency. jax requires jaxlib to be installed. See https://github.com/google/jax#installation for installation instructions.\n"
     ]
    }
   ],
   "source": [
    "from tdc.single_pred import ADME\n",
    "from alien.data import DeepChemDataset\n",
    "\n",
    "data = ADME(name = 'Caco2_Wang')\n",
    "split = data.get_split()\n",
    "\n",
    "data = DeepChemDataset(\n",
    "    X=split['train']['Drug'], \n",
    "    y=list(split['train']['Y']), \n",
    "    featurizer='molgraphconv'\n",
    ")\n",
    "test_data = DeepChemDataset(\n",
    "    X=split['test']['Drug'], \n",
    "    y=list(split['test']['Y']), \n",
    "    featurizer='molgraphconv'\n",
    ")"
   ]
  },
  {
   "cell_type": "code",
   "execution_count": 3,
   "id": "aa2d8afe-1e25-405c-a45a-abfb4c14c464",
   "metadata": {},
   "outputs": [],
   "source": [
    "import deepchem as dc\n",
    "import os\n",
    "import torch\n",
    "\n",
    "hyper_params_small = {\n",
    "    \"predictor_hidden_feats\": 50,\n",
    "    \"graph_conv_layers\": [20, 20],\n",
    "    \"activation\": torch.nn.ReLU(),\n",
    "    \"dropout\": 0.1,\n",
    "    \"batchnorm\": True,\n",
    "    \"learning_rate\": 0.001,\n",
    "}\n",
    "\n",
    "os.makedirs(\"deepchem_pytorch_models\", exist_ok=True)\n",
    "dc_model = dc.models.GCNModel(\n",
    "    1,\n",
    "    batch_size=64,\n",
    "    mode=\"regression\",\n",
    "    uncertainty=False,\n",
    "    log_frequency=20,\n",
    "    model_dir=\"deepchem_pytorch_models/\",\n",
    "    # This looks stupid, but you need to set devce='cpu' if you want to use\n",
    "    # Pytorch Lightning with the GPU:\n",
    "    device=\"cpu\",\n",
    "    **hyper_params_small\n",
    ")"
   ]
  },
  {
   "cell_type": "code",
   "execution_count": 4,
   "id": "e8d087c1-78c9-4e97-a4b7-dec507e8dd22",
   "metadata": {},
   "outputs": [],
   "source": [
    "from alien.models import DeepChemLaplaceRegressor\n",
    "\n",
    "# We may not have a GPU on this computer, so we comment it out.\n",
    "# Since we're using Pytorch lightning under the hood, we can\n",
    "# pass any arguments which would go to the Pytorch lightning\n",
    "# trainer.\n",
    "model = DeepChemLaplaceRegressor(dc_model, data) #, accelerator=\"gpu\")"
   ]
  },
  {
   "cell_type": "code",
   "execution_count": 5,
   "id": "70093b29-9110-4c12-ba6e-275b411e9a31",
   "metadata": {},
   "outputs": [
    {
     "name": "stderr",
     "output_type": "stream",
     "text": [
      "GPU available: False, used: False\n",
      "TPU available: False, using: 0 TPU cores\n",
      "IPU available: False, using: 0 IPUs\n",
      "HPU available: False, using: 0 HPUs\n",
      "\n",
      "  | Name  | Type | Params\n",
      "-------------------------------\n",
      "0 | model | GCN  | 4.4 K \n",
      "-------------------------------\n",
      "4.4 K     Trainable params\n",
      "0         Non-trainable params\n",
      "4.4 K     Total params\n",
      "0.018     Total estimated model params size (MB)\n"
     ]
    },
    {
     "name": "stdout",
     "output_type": "stream",
     "text": [
      "Epoch 39:  80%|████████  | 8/10 [00:00<00:00, 20.05it/s, loss=0.64, v_num=2]  "
     ]
    },
    {
     "name": "stderr",
     "output_type": "stream",
     "text": [
      "`Trainer.fit` stopped: `max_steps=398` reached.\n"
     ]
    },
    {
     "name": "stdout",
     "output_type": "stream",
     "text": [
      "Epoch 39:  80%|████████  | 8/10 [00:00<00:00, 19.74it/s, loss=0.64, v_num=2]\n",
      "Fitting Laplace approximation...\n"
     ]
    }
   ],
   "source": [
    "model.fit(nb_epoch=40) #, accelerator=\"gpu\")  # , strategy=\"ddp\")"
   ]
  },
  {
   "cell_type": "code",
   "execution_count": 6,
   "id": "b5678801-0af7-4111-ac98-7779be39f573",
   "metadata": {},
   "outputs": [],
   "source": [
    "pred = model.predict(test_data[:40, \"X\"])\n",
    "cov = model.covariance(test_data[:40, \"X\"])"
   ]
  },
  {
   "cell_type": "code",
   "execution_count": 8,
   "id": "432d3899-4c10-4ebc-b232-a8576c83e3f9",
   "metadata": {},
   "outputs": [
    {
     "data": {
      "image/png": "[encoded data removed]",
      "text/plain": [
       "<Figure size 640x480 with 1 Axes>"
      ]
     },
     "metadata": {},
     "output_type": "display_data"
    }
   ],
   "source": [
    "import matplotlib.pyplot as plt\n",
    "import numpy as np\n",
    "\n",
    "plt.imshow(cov, cmap=\"bwr\", vmin=-1, vmax=1, interpolation=\"nearest\")\n",
    "plt.show()"
   ]
  },
  {
   "cell_type": "code",
   "execution_count": 9,
   "id": "2d768e44-6cab-4457-83a8-cd2f094ef458",
   "metadata": {},
   "outputs": [],
   "source": [
    "def cor_from_cov(cov):\n",
    "    std = 1 / np.sqrt(np.diag(cov))\n",
    "    return std[:, None] * cov * std[None, :]"
   ]
  },
  {
   "cell_type": "code",
   "execution_count": 10,
   "id": "49dc9243-8a8a-4424-9711-1e1f84535599",
   "metadata": {},
   "outputs": [
    {
     "data": {
      "image/png": "[encoded data removed]",
      "text/plain": [
       "<Figure size 640x480 with 1 Axes>"
      ]
     },
     "metadata": {},
     "output_type": "display_data"
    }
   ],
   "source": [
    "import matplotlib.pyplot as plt\n",
    "import numpy as np\n",
    "\n",
    "corr = cor_from_cov(cov)\n",
    "plt.imshow(corr, cmap=\"bwr\", vmin=-1, vmax=1, interpolation=\"nearest\")\n",
    "plt.show()"
   ]
  },
  {
   "cell_type": "code",
   "execution_count": 11,
   "id": "af444944-26d9-4e13-bc21-92a2b6d3e42f",
   "metadata": {},
   "outputs": [],
   "source": [
    "from alien.selection import BAITSelector\n",
    "\n",
    "selector = BAITSelector(\n",
    "    model=model,\n",
    "    samples=data.X,\n",
    "    batch_size=20,\n",
    "    random_seed=420,\n",
    ")"
   ]
  },
  {
   "cell_type": "code",
   "execution_count": 12,
   "id": "810b5e28-cc15-4d05-b86e-67935715236b",
   "metadata": {},
   "outputs": [
    {
     "name": "stdout",
     "output_type": "stream",
     "text": [
      "Greedy forward sampling...\n",
      "Greedy backward pruning...\n"
     ]
    }
   ],
   "source": [
    "batch_0 = selector.select()\n",
    "selector.labelled_samples = batch_0\n",
    "\n",
    "batch_1 = selector.select()"
   ]
  },
  {
   "cell_type": "code",
   "execution_count": 13,
   "id": "23b0a53e-a108-4313-92d4-dd0f4c5b12e2",
   "metadata": {},
   "outputs": [],
   "source": [
    "from alien.models import DeepChemMCDropoutRegressor\n",
    "\n",
    "mc_model = DeepChemMCDropoutRegressor(dc_model, data)"
   ]
  },
  {
   "cell_type": "code",
   "execution_count": 14,
   "id": "a81cf97e-b8af-416b-9458-93cd2b3247d0",
   "metadata": {},
   "outputs": [],
   "source": [
    "from alien.selection import CovarianceSelector\n",
    "\n",
    "selector = CovarianceSelector(\n",
    "    model=mc_model,\n",
    "    samples=data.X,\n",
    "    batch_size=20,\n",
    "    random_seed=420,\n",
    ")"
   ]
  },
  {
   "cell_type": "code",
   "execution_count": 15,
   "id": "a1923810-5f1b-4e2c-9378-e8553feb1596",
   "metadata": {},
   "outputs": [],
   "source": [
    "batch_0 = selector.select()\n",
    "selector.labelled_samples = batch_0\n",
    "\n",
    "batch_1 = selector.select()"
   ]
  },
  {
   "cell_type": "code",
   "execution_count": null,
   "id": "59b5a192-4e47-4384-a907-87d2a7664533",
   "metadata": {},
   "outputs": [],
   "source": []
  }
 ],
 "metadata": {
  "kernelspec": {
   "display_name": "alenv",
   "language": "python",
   "name": "alenv"
  },
  "language_info": {
   "codemirror_mode": {
    "name": "ipython",
    "version": 3
   },
   "file_extension": ".py",
   "mimetype": "text/x-python",
   "name": "python",
   "nbconvert_exporter": "python",
   "pygments_lexer": "ipython3",
   "version": "3.9.2"
  },
  "vscode": {
   "interpreter": {
    "hash": "e299509dd2c32be3ad6a016e105b721a2c39927a231eecded28efbc5638cf86f"
   }
  }
 },
 "nbformat": 4,
 "nbformat_minor": 5
}
