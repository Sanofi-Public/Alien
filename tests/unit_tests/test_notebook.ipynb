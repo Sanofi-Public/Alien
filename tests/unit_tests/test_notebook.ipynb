{
 "cells": [
  {
   "cell_type": "code",
   "execution_count": 1,
   "id": "b8b93306-38f3-40c4-a2f3-a1634cb1cf83",
   "metadata": {},
   "outputs": [
    {
     "name": "stdout",
     "output_type": "stream",
     "text": [
      "Current workding dir: /home/oneai/UDS-active_learning_sdk/tests/unit_tests\n",
      "New workding dir: /home/oneai/UDS-active_learning_sdk\n"
     ]
    }
   ],
   "source": [
    "import os\n",
    "from pathlib import Path\n",
    "\n",
    "print(\"Current workding dir:\", Path.cwd())\n",
    "\n",
    "if 'gate_flag' not in locals() or not gate_flag:\n",
    "    os.chdir((Path.cwd().parent.parent).as_posix())\n",
    "    print(\"New workding dir:\", Path.cwd())\n",
    "    gate_flag = True\n",
    "    "
   ]
  },
  {
   "cell_type": "code",
   "execution_count": 2,
   "id": "108f8fd9-56c8-4833-862c-b579fbc495e1",
   "metadata": {},
   "outputs": [
    {
     "name": "stderr",
     "output_type": "stream",
     "text": [
      "GPU available: False, used: False\n",
      "TPU available: False, using: 0 TPU cores\n",
      "IPU available: False, using: 0 IPUs\n",
      "HPU available: False, using: 0 HPUs\n",
      "/home/oneai/.local/lib/python3.9/site-packages/pytorch_lightning/trainer/configuration_validator.py:108: PossibleUserWarning: You defined a `validation_step` but have no `val_dataloader`. Skipping val loop.\n",
      "  rank_zero_warn(\n",
      "\n",
      "  | Name  | Type          | Params\n",
      "----------------------------------------\n",
      "0 | model | NeuralNetwork | 1.2 K \n",
      "----------------------------------------\n",
      "1.2 K     Trainable params\n",
      "0         Non-trainable params\n",
      "1.2 K     Total params\n",
      "0.005     Total estimated model params size (MB)\n"
     ]
    },
    {
     "name": "stdout",
     "output_type": "stream",
     "text": [
      "\n",
      "\n",
      "### Round 0 (Run 0) ###\n",
      "  Model:    <alien.models.pytorch.pytorch.PytorchRegressor object at 0x7f0763ab5430>\n",
      "  Selector: <alien.selection.covariance.CovarianceSelector object at 0x7f06bb640b20>\n",
      "  100 labelled samples\n",
      "  256 samples remaining\n",
      "\n",
      "Training model...\n"
     ]
    },
    {
     "name": "stderr",
     "output_type": "stream",
     "text": [
      "2023-06-14 15:31:29.472156: I tensorflow/core/platform/cpu_feature_guard.cc:182] This TensorFlow binary is optimized to use available CPU instructions in performance-critical operations.\n",
      "To enable the following instructions: AVX2 AVX512F FMA, in other operations, rebuild TensorFlow with the appropriate compiler flags.\n",
      "2023-06-14 15:31:30.223084: W tensorflow/compiler/tf2tensorrt/utils/py_utils.cc:38] TF-TRT Warning: Could not find TensorRT\n",
      "/home/oneai/.local/lib/python3.9/site-packages/pytorch_lightning/trainer/connectors/data_connector.py:224: PossibleUserWarning: The dataloader, train_dataloader, does not have many workers which may be a bottleneck. Consider increasing the value of the `num_workers` argument` (try 32 which is the number of cpus on this machine) in the `DataLoader` init to improve performance.\n",
      "  rank_zero_warn(\n",
      "/home/oneai/.local/lib/python3.9/site-packages/pytorch_lightning/trainer/trainer.py:1609: PossibleUserWarning: The number of training batches (2) is smaller than the logging interval Trainer(log_every_n_steps=50). Set a lower value for log_every_n_steps if you want to see logs for the training epoch.\n",
      "  rank_zero_warn(\n"
     ]
    },
    {
     "name": "stdout",
     "output_type": "stream",
     "text": [
      "Epoch 13:   0%|          | 0/2 [00:00<?, ?it/s, loss=0.801, v_num=435]         "
     ]
    },
    {
     "name": "stderr",
     "output_type": "stream",
     "text": [
      "/home/oneai/UDS-active_learning_sdk/alien/models/pytorch/lightning.py:35: UserWarning: Using a target size (torch.Size([64])) that is different to the input size (torch.Size([64, 1])). This will likely lead to incorrect results due to broadcasting. Please ensure they have the same size.\n",
      "  loss = self.loss(output, y)\n",
      "/home/oneai/UDS-active_learning_sdk/alien/models/pytorch/lightning.py:35: UserWarning: Using a target size (torch.Size([36])) that is different to the input size (torch.Size([36, 1])). This will likely lead to incorrect results due to broadcasting. Please ensure they have the same size.\n",
      "  loss = self.loss(output, y)\n"
     ]
    },
    {
     "name": "stdout",
     "output_type": "stream",
     "text": [
      "Epoch 77: 100%|██████████| 2/2 [00:00<00:00, 180.04it/s, loss=0.789, v_num=435]"
     ]
    },
    {
     "name": "stderr",
     "output_type": "stream",
     "text": [
      "`Trainer.fit` stopped: `max_steps=156.0` reached.\n"
     ]
    },
    {
     "name": "stdout",
     "output_type": "stream",
     "text": [
      "Epoch 77: 100%|██████████| 2/2 [00:00<00:00, 133.69it/s, loss=0.789, v_num=435]\n",
      "\n",
      "Computing metrics...\n",
      "\n",
      "Selecting batch...\n"
     ]
    },
    {
     "name": "stderr",
     "output_type": "stream",
     "text": [
      "/home/oneai/UDS-active_learning_sdk/alien/data/dataset.py:496: UserWarning: To copy construct from a tensor, it is recommended to use sourceTensor.clone().detach() or sourceTensor.clone().detach().requires_grad_(True), rather than torch.tensor(sourceTensor).\n",
      "  self.data = torch.cat((self.data, torch.tensor(X)), axis=0)\n",
      "GPU available: False, used: False\n",
      "TPU available: False, using: 0 TPU cores\n",
      "IPU available: False, using: 0 IPUs\n",
      "HPU available: False, using: 0 HPUs\n",
      "/home/oneai/.local/lib/python3.9/site-packages/pytorch_lightning/trainer/configuration_validator.py:108: PossibleUserWarning: You defined a `validation_step` but have no `val_dataloader`. Skipping val loop.\n",
      "  rank_zero_warn(\n",
      "\n",
      "  | Name  | Type          | Params\n",
      "----------------------------------------\n",
      "0 | model | NeuralNetwork | 1.2 K \n",
      "----------------------------------------\n",
      "1.2 K     Trainable params\n",
      "0         Non-trainable params\n",
      "1.2 K     Total params\n",
      "0.005     Total estimated model params size (MB)\n",
      "/home/oneai/.local/lib/python3.9/site-packages/pytorch_lightning/trainer/trainer.py:1609: PossibleUserWarning: The number of training batches (3) is smaller than the logging interval Trainer(log_every_n_steps=50). Set a lower value for log_every_n_steps if you want to see logs for the training epoch.\n",
      "  rank_zero_warn(\n"
     ]
    },
    {
     "name": "stdout",
     "output_type": "stream",
     "text": [
      "\n",
      "Learning batch...\n",
      "\n",
      "\n",
      "### Round 1 (Run 0) ###\n",
      "  Model:    <alien.models.pytorch.pytorch.PytorchRegressor object at 0x7f0763ab5430>\n",
      "  Selector: <alien.selection.covariance.CovarianceSelector object at 0x7f06bb640b20>\n",
      "  132 labelled samples\n",
      "  224 samples remaining\n",
      "\n",
      "Training model...\n",
      "Epoch 8:  33%|███▎      | 1/3 [00:00<00:00, 172.14it/s, loss=0.748, v_num=436]"
     ]
    },
    {
     "name": "stderr",
     "output_type": "stream",
     "text": [
      "/home/oneai/UDS-active_learning_sdk/alien/models/pytorch/lightning.py:35: UserWarning: Using a target size (torch.Size([4])) that is different to the input size (torch.Size([4, 1])). This will likely lead to incorrect results due to broadcasting. Please ensure they have the same size.\n",
      "  loss = self.loss(output, y)\n"
     ]
    },
    {
     "name": "stdout",
     "output_type": "stream",
     "text": [
      "Epoch 51: 100%|██████████| 3/3 [00:00<00:00, 177.44it/s, loss=0.701, v_num=436]"
     ]
    },
    {
     "name": "stderr",
     "output_type": "stream",
     "text": [
      "`Trainer.fit` stopped: `max_steps=156.0` reached.\n"
     ]
    },
    {
     "name": "stdout",
     "output_type": "stream",
     "text": [
      "Epoch 51: 100%|██████████| 3/3 [00:00<00:00, 145.21it/s, loss=0.701, v_num=436]\n",
      "\n",
      "Computing metrics...\n",
      "\n",
      "Selecting batch...\n"
     ]
    },
    {
     "name": "stderr",
     "output_type": "stream",
     "text": [
      "GPU available: False, used: False\n",
      "TPU available: False, using: 0 TPU cores\n",
      "IPU available: False, using: 0 IPUs\n",
      "HPU available: False, using: 0 HPUs\n",
      "\n",
      "  | Name  | Type          | Params\n",
      "----------------------------------------\n",
      "0 | model | NeuralNetwork | 1.2 K \n",
      "----------------------------------------\n",
      "1.2 K     Trainable params\n",
      "0         Non-trainable params\n",
      "1.2 K     Total params\n",
      "0.005     Total estimated model params size (MB)\n"
     ]
    },
    {
     "name": "stdout",
     "output_type": "stream",
     "text": [
      "\n",
      "Learning batch...\n",
      "\n",
      "\n",
      "### Round 2 (Run 0) ###\n",
      "  Model:    <alien.models.pytorch.pytorch.PytorchRegressor object at 0x7f0763ab5430>\n",
      "  Selector: <alien.selection.covariance.CovarianceSelector object at 0x7f06bb640b20>\n",
      "  164 labelled samples\n",
      "  192 samples remaining\n",
      "\n",
      "Training model...\n",
      "Epoch 51: 100%|██████████| 3/3 [00:00<00:00, 169.13it/s, loss=0.791, v_num=437]"
     ]
    },
    {
     "name": "stderr",
     "output_type": "stream",
     "text": [
      "`Trainer.fit` stopped: `max_steps=156.0` reached.\n"
     ]
    },
    {
     "name": "stdout",
     "output_type": "stream",
     "text": [
      "Epoch 51: 100%|██████████| 3/3 [00:00<00:00, 138.16it/s, loss=0.791, v_num=437]\n",
      "\n",
      "Computing metrics...\n",
      "Ending run because we've reached limit of 150 samples.\n",
      "\n",
      "\n",
      "### Round 0 (Run 1) ###\n",
      "  Model:    <alien.models.pytorch.pytorch.PytorchRegressor object at 0x7f0763ab5430>\n",
      "  Selector: <alien.selection.covariance.CovarianceSelector object at 0x7f06bb640b20>\n",
      "  100 labelled samples\n",
      "  256 samples remaining\n",
      "\n",
      "Training model...\n"
     ]
    },
    {
     "name": "stderr",
     "output_type": "stream",
     "text": [
      "GPU available: False, used: False\n",
      "TPU available: False, using: 0 TPU cores\n",
      "IPU available: False, using: 0 IPUs\n",
      "HPU available: False, using: 0 HPUs\n",
      "\n",
      "  | Name  | Type          | Params\n",
      "----------------------------------------\n",
      "0 | model | NeuralNetwork | 1.2 K \n",
      "----------------------------------------\n",
      "1.2 K     Trainable params\n",
      "0         Non-trainable params\n",
      "1.2 K     Total params\n",
      "0.005     Total estimated model params size (MB)\n"
     ]
    },
    {
     "name": "stdout",
     "output_type": "stream",
     "text": [
      "Epoch 77: 100%|██████████| 2/2 [00:00<00:00, 181.00it/s, loss=1.04, v_num=438]"
     ]
    },
    {
     "name": "stderr",
     "output_type": "stream",
     "text": [
      "`Trainer.fit` stopped: `max_steps=156.0` reached.\n"
     ]
    },
    {
     "name": "stdout",
     "output_type": "stream",
     "text": [
      "Epoch 77: 100%|██████████| 2/2 [00:00<00:00, 134.26it/s, loss=1.04, v_num=438]\n",
      "\n",
      "Computing metrics...\n",
      "\n",
      "Selecting batch...\n"
     ]
    },
    {
     "name": "stderr",
     "output_type": "stream",
     "text": [
      "GPU available: False, used: False\n",
      "TPU available: False, using: 0 TPU cores\n",
      "IPU available: False, using: 0 IPUs\n",
      "HPU available: False, using: 0 HPUs\n",
      "\n",
      "  | Name  | Type          | Params\n",
      "----------------------------------------\n",
      "0 | model | NeuralNetwork | 1.2 K \n",
      "----------------------------------------\n",
      "1.2 K     Trainable params\n",
      "0         Non-trainable params\n",
      "1.2 K     Total params\n",
      "0.005     Total estimated model params size (MB)\n"
     ]
    },
    {
     "name": "stdout",
     "output_type": "stream",
     "text": [
      "\n",
      "Learning batch...\n",
      "\n",
      "\n",
      "### Round 1 (Run 1) ###\n",
      "  Model:    <alien.models.pytorch.pytorch.PytorchRegressor object at 0x7f0763ab5430>\n",
      "  Selector: <alien.selection.covariance.CovarianceSelector object at 0x7f06bb640b20>\n",
      "  132 labelled samples\n",
      "  224 samples remaining\n",
      "\n",
      "Training model...\n",
      "Epoch 51: 100%|██████████| 3/3 [00:00<00:00, 179.67it/s, loss=0.698, v_num=439]"
     ]
    },
    {
     "name": "stderr",
     "output_type": "stream",
     "text": [
      "`Trainer.fit` stopped: `max_steps=156.0` reached.\n"
     ]
    },
    {
     "name": "stdout",
     "output_type": "stream",
     "text": [
      "Epoch 51: 100%|██████████| 3/3 [00:00<00:00, 146.14it/s, loss=0.698, v_num=439]\n",
      "\n",
      "Computing metrics...\n",
      "\n",
      "Selecting batch...\n"
     ]
    },
    {
     "name": "stderr",
     "output_type": "stream",
     "text": [
      "GPU available: False, used: False\n",
      "TPU available: False, using: 0 TPU cores\n",
      "IPU available: False, using: 0 IPUs\n",
      "HPU available: False, using: 0 HPUs\n",
      "\n",
      "  | Name  | Type          | Params\n",
      "----------------------------------------\n",
      "0 | model | NeuralNetwork | 1.2 K \n",
      "----------------------------------------\n",
      "1.2 K     Trainable params\n",
      "0         Non-trainable params\n",
      "1.2 K     Total params\n",
      "0.005     Total estimated model params size (MB)\n"
     ]
    },
    {
     "name": "stdout",
     "output_type": "stream",
     "text": [
      "\n",
      "Learning batch...\n",
      "\n",
      "\n",
      "### Round 2 (Run 1) ###\n",
      "  Model:    <alien.models.pytorch.pytorch.PytorchRegressor object at 0x7f0763ab5430>\n",
      "  Selector: <alien.selection.covariance.CovarianceSelector object at 0x7f06bb640b20>\n",
      "  164 labelled samples\n",
      "  192 samples remaining\n",
      "\n",
      "Training model...\n",
      "Epoch 51: 100%|██████████| 3/3 [00:00<00:00, 172.53it/s, loss=0.906, v_num=440]"
     ]
    },
    {
     "name": "stderr",
     "output_type": "stream",
     "text": [
      "`Trainer.fit` stopped: `max_steps=156.0` reached.\n"
     ]
    },
    {
     "name": "stdout",
     "output_type": "stream",
     "text": [
      "Epoch 51: 100%|██████████| 3/3 [00:00<00:00, 140.30it/s, loss=0.906, v_num=440]\n",
      "\n",
      "Computing metrics...\n",
      "Ending run because we've reached limit of 150 samples.\n"
     ]
    }
   ],
   "source": [
    "import tests.unit_tests.test_benchmarks as test_bm\n",
    "\n",
    "test_bm.test_run_experiments(Path('tests/unit_tests'))"
   ]
  },
  {
   "cell_type": "code",
   "execution_count": 3,
   "id": "d6656d2e-755b-4622-a9bd-19a6a484706d",
   "metadata": {},
   "outputs": [
    {
     "ename": "NameError",
     "evalue": "name 'test_models' is not defined",
     "output_type": "error",
     "traceback": [
      "\u001b[0;31m---------------------------------------------------------------------------\u001b[0m",
      "\u001b[0;31mNameError\u001b[0m                                 Traceback (most recent call last)",
      "Cell \u001b[0;32mIn[3], line 1\u001b[0m\n\u001b[0;32m----> 1\u001b[0m test \u001b[38;5;241m=\u001b[39m \u001b[43mtest_models\u001b[49m\u001b[38;5;241m.\u001b[39mTestDeepChemMCDropoutRegressorKeras()\n\u001b[1;32m      2\u001b[0m test\u001b[38;5;241m.\u001b[39mtest_ensemble()\n",
      "\u001b[0;31mNameError\u001b[0m: name 'test_models' is not defined"
     ]
    }
   ],
   "source": [
    "test = test_models.TestDeepChemMCDropoutRegressorKeras()\n",
    "test.test_ensemble()"
   ]
  },
  {
   "cell_type": "code",
   "execution_count": null,
   "id": "35808d6d-5cfd-4b76-b318-24303b8cc840",
   "metadata": {},
   "outputs": [],
   "source": [
    "test = test_models.TestLaplaceRegressor()\n",
    "test.test_creation()"
   ]
  },
  {
   "cell_type": "code",
   "execution_count": null,
   "id": "a2f82988-ece6-48ec-ba97-8ac29006f91c",
   "metadata": {},
   "outputs": [],
   "source": [
    "import tests.unit_tests.test_utils as test_utils"
   ]
  },
  {
   "cell_type": "code",
   "execution_count": null,
   "id": "49b585d6-51d7-4f10-a2b4-155efa77eb10",
   "metadata": {},
   "outputs": [],
   "source": [
    "test_utils.test_any_pop()"
   ]
  },
  {
   "cell_type": "code",
   "execution_count": null,
   "id": "96ed30d9-8908-434a-8861-7a5c1158561a",
   "metadata": {},
   "outputs": [],
   "source": []
  }
 ],
 "metadata": {
  "kernelspec": {
   "display_name": "alenv",
   "language": "python",
   "name": "alenv"
  },
  "language_info": {
   "codemirror_mode": {
    "name": "ipython",
    "version": 3
   },
   "file_extension": ".py",
   "mimetype": "text/x-python",
   "name": "python",
   "nbconvert_exporter": "python",
   "pygments_lexer": "ipython3",
   "version": "3.9.2"
  }
 },
 "nbformat": 4,
 "nbformat_minor": 5
}
